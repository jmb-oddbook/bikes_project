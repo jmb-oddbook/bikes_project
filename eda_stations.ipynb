{
 "cells": [
  {
   "cell_type": "code",
   "execution_count": 1,
   "metadata": {},
   "outputs": [],
   "source": [
    "import pandas as pd\n",
    "import numpy as np\n",
    "from numpy import average\n",
    "import matplotlib.pyplot as plt \n",
    "import matplotlib.mlab as mlab\n",
    "import matplotlib.patches as mpatches\n",
    "import seaborn as sb\n",
    "import datetime as dt\n",
    "import glob\n",
    "import json\n",
    "from collections import Counter\n",
    "\n",
    "# called to counteract dark-mode Jupyter from swallowing axes &c.\n",
    "plt.style.use('seaborn-whitegrid')"
   ]
  },
  {
   "cell_type": "code",
   "execution_count": 2,
   "metadata": {},
   "outputs": [],
   "source": [
    "# Get station information from json file\n",
    "\n",
    "with open('data/cbs_data/station_information_a.json', 'r') as json_file:\n",
    "\tjson_load = json.load(json_file)\n",
    "\n",
    "station_info = pd.DataFrame(json_load['data']['stations'])"
   ]
  },
  {
   "cell_type": "code",
   "execution_count": 3,
   "metadata": {},
   "outputs": [
    {
     "data": {
      "text/html": [
       "<div>\n",
       "<style scoped>\n",
       "    .dataframe tbody tr th:only-of-type {\n",
       "        vertical-align: middle;\n",
       "    }\n",
       "\n",
       "    .dataframe tbody tr th {\n",
       "        vertical-align: top;\n",
       "    }\n",
       "\n",
       "    .dataframe thead th {\n",
       "        text-align: right;\n",
       "    }\n",
       "</style>\n",
       "<table border=\"1\" class=\"dataframe\">\n",
       "  <thead>\n",
       "    <tr style=\"text-align: right;\">\n",
       "      <th></th>\n",
       "      <th>region_id</th>\n",
       "      <th>electric_bike_surcharge_waiver</th>\n",
       "      <th>legacy_id</th>\n",
       "      <th>station_id</th>\n",
       "      <th>rental_uris</th>\n",
       "      <th>external_id</th>\n",
       "      <th>eightd_station_services</th>\n",
       "      <th>has_kiosk</th>\n",
       "      <th>capacity</th>\n",
       "      <th>lon</th>\n",
       "      <th>name</th>\n",
       "      <th>rental_methods</th>\n",
       "      <th>lat</th>\n",
       "      <th>short_name</th>\n",
       "      <th>station_type</th>\n",
       "      <th>eightd_has_key_dispenser</th>\n",
       "    </tr>\n",
       "  </thead>\n",
       "  <tbody>\n",
       "    <tr>\n",
       "      <th>0</th>\n",
       "      <td>41</td>\n",
       "      <td>False</td>\n",
       "      <td>1</td>\n",
       "      <td>1</td>\n",
       "      <td>{'ios': 'https://dc.lft.to/lastmile_qr_scan', ...</td>\n",
       "      <td>082469cc-1f3f-11e7-bf6b-3863bb334450</td>\n",
       "      <td>[]</td>\n",
       "      <td>True</td>\n",
       "      <td>15</td>\n",
       "      <td>-77.053230</td>\n",
       "      <td>Eads St &amp; 15th St S</td>\n",
       "      <td>[KEY, CREDITCARD]</td>\n",
       "      <td>38.858971</td>\n",
       "      <td>31000</td>\n",
       "      <td>classic</td>\n",
       "      <td>False</td>\n",
       "    </tr>\n",
       "    <tr>\n",
       "      <th>1</th>\n",
       "      <td>41</td>\n",
       "      <td>False</td>\n",
       "      <td>3</td>\n",
       "      <td>3</td>\n",
       "      <td>{'ios': 'https://dc.lft.to/lastmile_qr_scan', ...</td>\n",
       "      <td>08246c35-1f3f-11e7-bf6b-3863bb334450</td>\n",
       "      <td>[]</td>\n",
       "      <td>True</td>\n",
       "      <td>17</td>\n",
       "      <td>-77.049232</td>\n",
       "      <td>Crystal Dr &amp; 20th St S</td>\n",
       "      <td>[KEY, CREDITCARD]</td>\n",
       "      <td>38.856425</td>\n",
       "      <td>31002</td>\n",
       "      <td>classic</td>\n",
       "      <td>False</td>\n",
       "    </tr>\n",
       "    <tr>\n",
       "      <th>2</th>\n",
       "      <td>41</td>\n",
       "      <td>False</td>\n",
       "      <td>4</td>\n",
       "      <td>4</td>\n",
       "      <td>{'ios': 'https://dc.lft.to/lastmile_qr_scan', ...</td>\n",
       "      <td>08246cd5-1f3f-11e7-bf6b-3863bb334450</td>\n",
       "      <td>[]</td>\n",
       "      <td>True</td>\n",
       "      <td>16</td>\n",
       "      <td>-77.049417</td>\n",
       "      <td>Crystal Dr &amp; 15th St S</td>\n",
       "      <td>[KEY, CREDITCARD]</td>\n",
       "      <td>38.861056</td>\n",
       "      <td>31003</td>\n",
       "      <td>classic</td>\n",
       "      <td>False</td>\n",
       "    </tr>\n",
       "    <tr>\n",
       "      <th>3</th>\n",
       "      <td>41</td>\n",
       "      <td>False</td>\n",
       "      <td>5</td>\n",
       "      <td>5</td>\n",
       "      <td>{'ios': 'https://dc.lft.to/lastmile_qr_scan', ...</td>\n",
       "      <td>08246d68-1f3f-11e7-bf6b-3863bb334450</td>\n",
       "      <td>[]</td>\n",
       "      <td>True</td>\n",
       "      <td>12</td>\n",
       "      <td>-77.059490</td>\n",
       "      <td>Aurora Hills Cmty Ctr / 18th St &amp; S Hayes St</td>\n",
       "      <td>[KEY, CREDITCARD]</td>\n",
       "      <td>38.857866</td>\n",
       "      <td>31004</td>\n",
       "      <td>classic</td>\n",
       "      <td>False</td>\n",
       "    </tr>\n",
       "    <tr>\n",
       "      <th>4</th>\n",
       "      <td>41</td>\n",
       "      <td>False</td>\n",
       "      <td>6</td>\n",
       "      <td>6</td>\n",
       "      <td>{'ios': 'https://dc.lft.to/lastmile_qr_scan', ...</td>\n",
       "      <td>08246df5-1f3f-11e7-bf6b-3863bb334450</td>\n",
       "      <td>[]</td>\n",
       "      <td>True</td>\n",
       "      <td>19</td>\n",
       "      <td>-77.059936</td>\n",
       "      <td>Pentagon City Metro / 12th St &amp; S Hayes St</td>\n",
       "      <td>[KEY, CREDITCARD]</td>\n",
       "      <td>38.862303</td>\n",
       "      <td>31005</td>\n",
       "      <td>classic</td>\n",
       "      <td>False</td>\n",
       "    </tr>\n",
       "  </tbody>\n",
       "</table>\n",
       "</div>"
      ],
      "text/plain": [
       "  region_id  electric_bike_surcharge_waiver legacy_id station_id  \\\n",
       "0        41                           False         1          1   \n",
       "1        41                           False         3          3   \n",
       "2        41                           False         4          4   \n",
       "3        41                           False         5          5   \n",
       "4        41                           False         6          6   \n",
       "\n",
       "                                         rental_uris  \\\n",
       "0  {'ios': 'https://dc.lft.to/lastmile_qr_scan', ...   \n",
       "1  {'ios': 'https://dc.lft.to/lastmile_qr_scan', ...   \n",
       "2  {'ios': 'https://dc.lft.to/lastmile_qr_scan', ...   \n",
       "3  {'ios': 'https://dc.lft.to/lastmile_qr_scan', ...   \n",
       "4  {'ios': 'https://dc.lft.to/lastmile_qr_scan', ...   \n",
       "\n",
       "                            external_id eightd_station_services  has_kiosk  \\\n",
       "0  082469cc-1f3f-11e7-bf6b-3863bb334450                      []       True   \n",
       "1  08246c35-1f3f-11e7-bf6b-3863bb334450                      []       True   \n",
       "2  08246cd5-1f3f-11e7-bf6b-3863bb334450                      []       True   \n",
       "3  08246d68-1f3f-11e7-bf6b-3863bb334450                      []       True   \n",
       "4  08246df5-1f3f-11e7-bf6b-3863bb334450                      []       True   \n",
       "\n",
       "   capacity        lon                                          name  \\\n",
       "0        15 -77.053230                           Eads St & 15th St S   \n",
       "1        17 -77.049232                        Crystal Dr & 20th St S   \n",
       "2        16 -77.049417                        Crystal Dr & 15th St S   \n",
       "3        12 -77.059490  Aurora Hills Cmty Ctr / 18th St & S Hayes St   \n",
       "4        19 -77.059936    Pentagon City Metro / 12th St & S Hayes St   \n",
       "\n",
       "      rental_methods        lat short_name station_type  \\\n",
       "0  [KEY, CREDITCARD]  38.858971      31000      classic   \n",
       "1  [KEY, CREDITCARD]  38.856425      31002      classic   \n",
       "2  [KEY, CREDITCARD]  38.861056      31003      classic   \n",
       "3  [KEY, CREDITCARD]  38.857866      31004      classic   \n",
       "4  [KEY, CREDITCARD]  38.862303      31005      classic   \n",
       "\n",
       "   eightd_has_key_dispenser  \n",
       "0                     False  \n",
       "1                     False  \n",
       "2                     False  \n",
       "3                     False  \n",
       "4                     False  "
      ]
     },
     "execution_count": 3,
     "metadata": {},
     "output_type": "execute_result"
    }
   ],
   "source": [
    "station_info.head()"
   ]
  },
  {
   "cell_type": "code",
   "execution_count": 4,
   "metadata": {},
   "outputs": [
    {
     "data": {
      "text/plain": [
       "Index(['region_id', 'electric_bike_surcharge_waiver', 'legacy_id',\n",
       "       'station_id', 'rental_uris', 'external_id', 'eightd_station_services',\n",
       "       'has_kiosk', 'capacity', 'lon', 'name', 'rental_methods', 'lat',\n",
       "       'short_name', 'station_type', 'eightd_has_key_dispenser'],\n",
       "      dtype='object')"
      ]
     },
     "execution_count": 4,
     "metadata": {},
     "output_type": "execute_result"
    }
   ],
   "source": [
    "station_info.columns"
   ]
  },
  {
   "cell_type": "code",
   "execution_count": 5,
   "metadata": {},
   "outputs": [],
   "source": [
    "# Drop not needed columns in station information\n",
    "\n",
    "station_info = station_info.drop(['electric_bike_surcharge_waiver', 'rental_uris', 'external_id', 'eightd_station_services',\\\n",
    "\t'rental_methods', 'station_type', 'eightd_has_key_dispenser'], axis = 1)\n"
   ]
  },
  {
   "cell_type": "code",
   "execution_count": 6,
   "metadata": {},
   "outputs": [],
   "source": [
    "station_info.rename(columns={'lon': 'longitude', 'lat': 'latitude'}, inplace=True)"
   ]
  },
  {
   "cell_type": "code",
   "execution_count": 7,
   "metadata": {},
   "outputs": [
    {
     "data": {
      "text/html": [
       "<div>\n",
       "<style scoped>\n",
       "    .dataframe tbody tr th:only-of-type {\n",
       "        vertical-align: middle;\n",
       "    }\n",
       "\n",
       "    .dataframe tbody tr th {\n",
       "        vertical-align: top;\n",
       "    }\n",
       "\n",
       "    .dataframe thead th {\n",
       "        text-align: right;\n",
       "    }\n",
       "</style>\n",
       "<table border=\"1\" class=\"dataframe\">\n",
       "  <thead>\n",
       "    <tr style=\"text-align: right;\">\n",
       "      <th></th>\n",
       "      <th>region_id</th>\n",
       "      <th>legacy_id</th>\n",
       "      <th>station_id</th>\n",
       "      <th>has_kiosk</th>\n",
       "      <th>capacity</th>\n",
       "      <th>longitude</th>\n",
       "      <th>name</th>\n",
       "      <th>latitude</th>\n",
       "      <th>short_name</th>\n",
       "    </tr>\n",
       "  </thead>\n",
       "  <tbody>\n",
       "    <tr>\n",
       "      <th>0</th>\n",
       "      <td>41</td>\n",
       "      <td>1</td>\n",
       "      <td>1</td>\n",
       "      <td>True</td>\n",
       "      <td>15</td>\n",
       "      <td>-77.053230</td>\n",
       "      <td>Eads St &amp; 15th St S</td>\n",
       "      <td>38.858971</td>\n",
       "      <td>31000</td>\n",
       "    </tr>\n",
       "    <tr>\n",
       "      <th>1</th>\n",
       "      <td>41</td>\n",
       "      <td>3</td>\n",
       "      <td>3</td>\n",
       "      <td>True</td>\n",
       "      <td>17</td>\n",
       "      <td>-77.049232</td>\n",
       "      <td>Crystal Dr &amp; 20th St S</td>\n",
       "      <td>38.856425</td>\n",
       "      <td>31002</td>\n",
       "    </tr>\n",
       "    <tr>\n",
       "      <th>2</th>\n",
       "      <td>41</td>\n",
       "      <td>4</td>\n",
       "      <td>4</td>\n",
       "      <td>True</td>\n",
       "      <td>16</td>\n",
       "      <td>-77.049417</td>\n",
       "      <td>Crystal Dr &amp; 15th St S</td>\n",
       "      <td>38.861056</td>\n",
       "      <td>31003</td>\n",
       "    </tr>\n",
       "    <tr>\n",
       "      <th>3</th>\n",
       "      <td>41</td>\n",
       "      <td>5</td>\n",
       "      <td>5</td>\n",
       "      <td>True</td>\n",
       "      <td>12</td>\n",
       "      <td>-77.059490</td>\n",
       "      <td>Aurora Hills Cmty Ctr / 18th St &amp; S Hayes St</td>\n",
       "      <td>38.857866</td>\n",
       "      <td>31004</td>\n",
       "    </tr>\n",
       "    <tr>\n",
       "      <th>4</th>\n",
       "      <td>41</td>\n",
       "      <td>6</td>\n",
       "      <td>6</td>\n",
       "      <td>True</td>\n",
       "      <td>19</td>\n",
       "      <td>-77.059936</td>\n",
       "      <td>Pentagon City Metro / 12th St &amp; S Hayes St</td>\n",
       "      <td>38.862303</td>\n",
       "      <td>31005</td>\n",
       "    </tr>\n",
       "  </tbody>\n",
       "</table>\n",
       "</div>"
      ],
      "text/plain": [
       "  region_id legacy_id station_id  has_kiosk  capacity  longitude  \\\n",
       "0        41         1          1       True        15 -77.053230   \n",
       "1        41         3          3       True        17 -77.049232   \n",
       "2        41         4          4       True        16 -77.049417   \n",
       "3        41         5          5       True        12 -77.059490   \n",
       "4        41         6          6       True        19 -77.059936   \n",
       "\n",
       "                                           name   latitude short_name  \n",
       "0                           Eads St & 15th St S  38.858971      31000  \n",
       "1                        Crystal Dr & 20th St S  38.856425      31002  \n",
       "2                        Crystal Dr & 15th St S  38.861056      31003  \n",
       "3  Aurora Hills Cmty Ctr / 18th St & S Hayes St  38.857866      31004  \n",
       "4    Pentagon City Metro / 12th St & S Hayes St  38.862303      31005  "
      ]
     },
     "execution_count": 7,
     "metadata": {},
     "output_type": "execute_result"
    }
   ],
   "source": [
    "station_info.head()"
   ]
  },
  {
   "cell_type": "code",
   "execution_count": 14,
   "metadata": {},
   "outputs": [
    {
     "data": {
      "text/plain": [
       "0      False\n",
       "1      False\n",
       "2      False\n",
       "3      False\n",
       "4      False\n",
       "       ...  \n",
       "676    False\n",
       "677    False\n",
       "678    False\n",
       "679    False\n",
       "680    False\n",
       "Name: longitude, Length: 681, dtype: bool"
      ]
     },
     "execution_count": 14,
     "metadata": {},
     "output_type": "execute_result"
    }
   ],
   "source": [
    "station_info['longitude']=='NaN'"
   ]
  },
  {
   "cell_type": "code",
   "execution_count": 8,
   "metadata": {},
   "outputs": [
    {
     "data": {
      "text/plain": [
       "array(['41', '42', '40', '44', '43', '104', '133', '152'], dtype=object)"
      ]
     },
     "execution_count": 8,
     "metadata": {},
     "output_type": "execute_result"
    }
   ],
   "source": [
    "station_info.region_id.unique()"
   ]
  },
  {
   "cell_type": "code",
   "execution_count": 9,
   "metadata": {},
   "outputs": [],
   "source": [
    "station_info['region_id'] = station_info['region_id'].astype('int64')"
   ]
  },
  {
   "cell_type": "code",
   "execution_count": 10,
   "metadata": {},
   "outputs": [],
   "source": [
    "# Regions are used only for bike stations.\n",
    "# According to Capital Bike Share sub Real-Time Data the regions defined are:\n",
    "\n",
    "station_info['region_name'] = station_info.region_id.map({\n",
    "        40:'Alexandria, VA', 41:'Arlington, VA', 42:'Washington, DC', 43:'Montgomery County, MD (North)',\n",
    "        44:'Montgomery County, MD (South)', 48:'Test & Operations', 104:'Fairfax, VA',\n",
    "        128:'8D', 133:'Prince George\\'s County', 152:'Falls Church, VA'\n",
    "    }).astype('category')\n"
   ]
  },
  {
   "cell_type": "code",
   "execution_count": null,
   "metadata": {},
   "outputs": [],
   "source": [
    "station_info.to_csv('data/mod_data/stationinfo_conv.csv') "
   ]
  },
  {
   "cell_type": "code",
   "execution_count": 15,
   "metadata": {},
   "outputs": [],
   "source": [
    "bike_trips = pd.read_csv('data/mod_data/bike_trips_2011_2012.csv')\n"
   ]
  },
  {
   "cell_type": "code",
   "execution_count": 51,
   "metadata": {},
   "outputs": [],
   "source": [
    "# All stations of 2011 and 2012 \n",
    "# TODO: make this more pythonic\n",
    "stations_2011 = bike_trips.loc[bike_trips['year']==2011]\n",
    "stations_2011 = stations_2011['start_station_number'].unique()\n",
    "stations_2012 = bike_trips.loc[bike_trips['year']==2012]\n",
    "stations_2012 = stations_2012['start_station_number'].unique()\n",
    "\n",
    "#np.savetxt('data/mod_data/stations_2011_conv.csv', stations_2011, delimiter=\"\\t\", fmt='%s')\n",
    "#np.savetxt('data/mod_data/stations_2012_conv.csv', stations_2012, delimiter=\"\\t\", fmt='%s')\n"
   ]
  },
  {
   "cell_type": "code",
   "execution_count": 25,
   "metadata": {},
   "outputs": [
    {
     "data": {
      "text/plain": [
       "array([31261, 31266, 31704], dtype=int64)"
      ]
     },
     "execution_count": 25,
     "metadata": {},
     "output_type": "execute_result"
    }
   ],
   "source": [
    "# These are the 3 stations that exist in 2011 but not anymore in 2012\n",
    "# returns values in stations_2011 not in stations_2012\n",
    "lost_stations = np.setdiff1d(stations_2011, stations_2012, assume_unique=False)\n",
    "lost_stations\n"
   ]
  },
  {
   "cell_type": "code",
   "execution_count": 26,
   "metadata": {},
   "outputs": [
    {
     "data": {
      "text/plain": [
       "array([31023, 31024, 31025, 31026, 31027, 31028, 31029, 31030, 31031,\n",
       "       31032, 31033, 31034, 31035, 31036, 31037, 31038, 31039, 31040,\n",
       "       31041, 31042, 31043, 31044, 31045, 31046, 31047, 31048, 31049,\n",
       "       31050, 31051, 31234, 31240, 31243, 31247, 31248, 31249, 31250,\n",
       "       31251, 31252, 31253, 31254, 31255, 31256, 31257, 31258, 31306,\n",
       "       31507, 31508, 31612, 31628, 31803], dtype=int64)"
      ]
     },
     "execution_count": 26,
     "metadata": {},
     "output_type": "execute_result"
    }
   ],
   "source": [
    "# These are the 50 stations that exist in 2012 but not in 2011\n",
    "# returns values in stations_2012 not in stations_2011\n",
    "new_stations = np.setdiff1d(stations_2012, stations_2011, assume_unique=False)\n",
    "new_stations\n"
   ]
  },
  {
   "cell_type": "code",
   "execution_count": 53,
   "metadata": {},
   "outputs": [
    {
     "data": {
      "text/plain": [
       "array([31000, 31002, 31003, 31004, 31005, 31006, 31007, 31009, 31010,\n",
       "       31011, 31012, 31100, 31101, 31102, 31104, 31105, 31106, 31107,\n",
       "       31108, 31201, 31202, 31203, 31204, 31205, 31400, 31401, 31502,\n",
       "       31600, 31601, 31602, 31700, 31305, 31702, 31703, 31704, 31801,\n",
       "       31802, 31206, 31500, 31111, 31207, 31209, 31110, 31109, 31013,\n",
       "       31208, 31200, 31603, 31212, 31213, 31604, 31605, 31606, 31607,\n",
       "       31214, 31300, 31503, 31608, 31301, 31302, 31402, 31804, 31805,\n",
       "       31610, 31216, 31705, 31217, 31215, 31501, 31220, 31218, 31219,\n",
       "       31211, 31613, 31221, 31303, 31611, 31620, 31222, 31223, 31112,\n",
       "       31224, 31225, 31609, 31612, 31226, 31227, 31228, 31504, 31505,\n",
       "       31615, 31616, 31617, 31618, 31619, 31701, 31622, 31229, 31230,\n",
       "       31231, 31232, 31233, 31234, 31621, 31235, 31236, 31237, 31623,\n",
       "       31624, 31266, 31304, 31238, 31052, 31240, 31262, 31260, 31014,\n",
       "       31015, 31016, 31017, 31018, 31706, 31261, 31019, 31113, 31239,\n",
       "       31241, 31020, 31021, 31022, 31242, 31243, 31244, 31625, 31245,\n",
       "       31404, 31506, 31115, 31116, 31707, 31307, 31708, 31246, 31626,\n",
       "       31806, 31035, 31033, 31029, 31263, 31023, 31027, 31628, 31306,\n",
       "       31507, 31024, 31025, 31026, 31247, 31248, 31036, 31264, 31028,\n",
       "       31030, 31031, 31032, 31037, 31034, 31249, 31803, 31038, 31039,\n",
       "       31040, 31508, 31250, 31251, 31252, 31253, 31041, 31042, 31043,\n",
       "       31044, 31254, 31045, 31046, 31047, 31048, 31255, 31256, 31257,\n",
       "       31049, 31050, 31051, 31258, 31259, 31265, 31308, 31309, 31627,\n",
       "       31053, 31054, 31055, 31114, 31403, 31405, 31406, 31407, 31056,\n",
       "       31057, 31058, 31059, 31060, 31061, 32006, 31312, 31062, 31310,\n",
       "       31267, 31117, 31629, 31509, 31630, 31631, 31510, 31632, 31511,\n",
       "       31800, 31807, 31512, 31268, 31063, 31064, 31065, 31066, 31269,\n",
       "       31270, 31118, 31513, 31271, 31272, 31633, 31514, 31067, 31068,\n",
       "       31069, 32001, 32002, 32003, 32004, 32005, 32000, 32007, 32008,\n",
       "       32009, 32010, 32011, 32012, 32013, 32014, 31119, 31634, 31120,\n",
       "       31635, 32016, 32017, 32018, 32019, 32021, 32022, 32023, 32024,\n",
       "       32025, 32026, 32027, 32028, 32029, 32032, 32033, 32034, 32035,\n",
       "       32036, 32037, 32038, 31121, 31636, 31710, 31711, 31273, 31070,\n",
       "       31071, 32039, 32040, 31637, 31072, 31073, 31074, 31313, 32041,\n",
       "       32042, 32043, 32044, 31638, 31515, 31408, 31516, 31075, 31076,\n",
       "       32045, 32046, 32047, 32048, 31077, 31314, 31081, 31079, 31078,\n",
       "       31274, 31080, 31275, 31082, 31083, 31084, 31085, 31086, 31087,\n",
       "       31088, 31089, 32049, 31090, 31315, 31276, 31277, 32050, 31278,\n",
       "       31091, 31517, 31092, 31093, 31094, 31279, 31522, 31902, 31095,\n",
       "       31293, 31280, 31096, 31639, 31281, 31411, 31712, 31640, 31518,\n",
       "       31316, 32051, 32052, 31900, 31097, 31098, 31099, 32053, 31901,\n",
       "       31317, 31122, 31282, 32054, 32055, 31283, 31519, 31811, 31284,\n",
       "       31285, 32056, 31903, 31123, 31910, 31286, 31287, 31318, 31641,\n",
       "       31908, 31904, 31905, 31906, 31913, 31288, 31289, 31290, 31907,\n",
       "       31909, 31642, 31912, 31914, 31915, 31916, 31124, 31291, 31319,\n",
       "       31520, 31713, 31812, 32200, 32201, 32203, 32204, 32205, 32206,\n",
       "       32207, 32208, 32209, 32210, 32211, 32212, 32213, 32214, 31643,\n",
       "       32215, 32216, 32217, 31292, 31714, 32218, 32219, 32220, 31917,\n",
       "       31414, 32221, 31918, 32058, 31125, 31644, 31412, 31919, 32222,\n",
       "       31645, 32057, 32059, 32061, 32062, 32063, 32064, 32065, 32066,\n",
       "       32223, 32224, 31413, 31521, 31294, 32067, 31295, 31296, 31920,\n",
       "       31921, 31923, 32068, 32069, 32225, 32070, 31297, 31298, 31126,\n",
       "       31299, 31924, 31320, 31321, 31128, 32071, 32072, 31813, 31814,\n",
       "       31815, 31816, 31817, 31818, 31819, 31715, 31129, 31646, 31523,\n",
       "       32073, 31415, 31647, 31820, 32074, 32075, 32076, 32077, 32078,\n",
       "       32079, 32080, 32081, 32082, 32227, 32400, 32401, 32402, 32403,\n",
       "       32404, 31648, 32405, 31822, 31649, 31322, 31416, 31650, 32406,\n",
       "       32407, 31651, 31652, 31417, 32228, 32229, 31653, 31654, 31524,\n",
       "       31655, 31656, 31657, 31323, 32230, 31525, 31658, 31659, 31418,\n",
       "       31823, 31324, 32231, 32408, 32409, 32410, 32411, 32412, 32413,\n",
       "       32414, 32415, 32416, 32417, 32600, 32601, 32602, 32603, 32604,\n",
       "       32606, 32605, 32607, 32608, 32609, 32232, 32233, 31419, 32234,\n",
       "       32235, 31526, 31130, 31527, 31420, 31421, 31131, 31528, 32418,\n",
       "       32419, 32420, 32421, 32422, 32084, 31529, 31660, 31716, 31717,\n",
       "       32423, 31824, 31718, 31825, 31325, 31127, 31661, 31326, 32085,\n",
       "       32086, 32087, 32088, 32090, 32091, 32089, 32092, 32094, 32093,\n",
       "       31926, 31719, 31826, 32236, 31662, 31927, 31928, 31929, 31930,\n",
       "       31530, 31663, 31664, 31327, 31132, 31665, 31422, 31931, 31932,\n",
       "       31933, 31328, 31666, 31423, 31935, 31936, 31937, 31938, 31939,\n",
       "       31940, 31667, 31668, 31133, 31669, 31671, 31941, 31942, 31943,\n",
       "       31720, 31944, 31945, 31946, 31947, 31948, 32424, 32425, 32426,\n",
       "       32237, 32238, 32239, 32240, 32241, 32242, 32243, 32244, 32245,\n",
       "       32246, 32247, 32248, 32249, 32250, 32251, 32252, 32253, 31949,\n",
       "       31827, 31950, 31951, 31531, 31952, 32255, 32256, 31134, 31330,\n",
       "       31331, 31332, 31532, 31953, 31954, 31955, 31672, 31956, 31957,\n",
       "       31958, 31959, 31960, 31961, 31962, 31963, 31964, 31966, 31967,\n",
       "       31968, 31969, 31135, 31970, 31971, 31972], dtype=int64)"
      ]
     },
     "execution_count": 53,
     "metadata": {},
     "output_type": "execute_result"
    }
   ],
   "source": [
    "current_stations = station_info['short_name'].unique().astype('int64')\n",
    "current_stations"
   ]
  },
  {
   "cell_type": "code",
   "execution_count": 55,
   "metadata": {},
   "outputs": [
    {
     "data": {
      "text/plain": [
       "array([31001, 31008, 31103, 31614], dtype=int64)"
      ]
     },
     "execution_count": 55,
     "metadata": {},
     "output_type": "execute_result"
    }
   ],
   "source": [
    "# stations existing in 2011 and not present in the current station info file\n",
    "lost_2011_stations = np.setdiff1d(stations_2011, current_stations, assume_unique=False)\n",
    "lost_2011_stations"
   ]
  },
  {
   "cell_type": "code",
   "execution_count": 56,
   "metadata": {},
   "outputs": [
    {
     "data": {
      "text/plain": [
       "array([31001, 31008, 31103, 31614], dtype=int64)"
      ]
     },
     "execution_count": 56,
     "metadata": {},
     "output_type": "execute_result"
    }
   ],
   "source": [
    "# stations existing in 2012 and not present in the current station info file\n",
    "lost_2012_stations = np.setdiff1d(stations_2012, current_stations, assume_unique=False)\n",
    "lost_2012_stations"
   ]
  },
  {
   "cell_type": "markdown",
   "metadata": {},
   "source": [
    "Four stations present in 2011 and 2012 have been retired in the current station info.<br />\n",
    "These four stations will not have geodata to map."
   ]
  },
  {
   "cell_type": "code",
   "execution_count": 64,
   "metadata": {},
   "outputs": [
    {
     "data": {
      "text/plain": [
       "array(['11th & H St NE', '12th & Army Navy Dr', '15th & Crystal Dr',\n",
       "       '15th & N Scott St', '18th & Eads St.', '19th & L St NW',\n",
       "       '1st & N St  SE', '20th & Crystal Dr', '21st & M St NW',\n",
       "       '23rd & Crystal Dr', '26th & S Clark St', '27th & Crystal Dr',\n",
       "       'Aurora Hills Community Ctr/18th & Hayes St',\n",
       "       'Ballston Metro / N Stuart & 9th St N', 'Braddock Rd Metro',\n",
       "       'Central Library / N Quincy St & 10th St N',\n",
       "       'Connecticut Ave & Newark St NW / Cleveland Park',\n",
       "       'Crystal City Metro / 18th & Bell St', 'Eads & 22nd St S',\n",
       "       'Eastern Market Metro / Pennsylvania Ave & 7th St SE',\n",
       "       'Fairfax Dr & Kenmore St', 'Georgia Ave and Fairmont St NW',\n",
       "       'Key Blvd & N Quinn St', 'Lee Hwy & N Adams St',\n",
       "       'Lynn & 19th St North', 'N Randolph St & Fairfax Dr',\n",
       "       'N Rhodes & 16th St N', 'N Veitch  & 20th St N',\n",
       "       'N Veitch & Key Blvd', 'Pentagon City Metro / 12th & S Hayes St',\n",
       "       'Rosslyn Metro / Wilson Blvd & Ft Myer Dr',\n",
       "       'S Glebe & Potomac Ave', 'S Joyce & Army Navy Dr',\n",
       "       'Saint Asaph St & Pendleton  St',\n",
       "       'USDA / 12th & Independence Ave SW', 'Utah St & 11th St N ',\n",
       "       'Virginia Square Metro / N Monroe St & 9th St N',\n",
       "       'Wilson Blvd & Franklin Rd'], dtype=object)"
      ]
     },
     "execution_count": 64,
     "metadata": {},
     "output_type": "execute_result"
    }
   ],
   "source": [
    "# Important: go by the station number and not by the station name, some stations have been renamed!!\n",
    "# Example station ID 31009: in 2011/12 it was called \"27th & Crystal Dr\" and in the current station\n",
    "# file it is called \"Crystal Dr & 27th St S\"\n",
    "\n",
    "stations_2012 = bike_trips.loc[bike_trips['year']==2012]\n",
    "stations_2012 = stations_2012['start_station'].unique()\n",
    "current_stations = station_info['name'].unique()#.astype('int64')\n",
    "np.setdiff1d(stations_2012, current_stations, assume_unique=False)"
   ]
  },
  {
   "cell_type": "markdown",
   "metadata": {},
   "source": [
    "<hr>"
   ]
  },
  {
   "cell_type": "markdown",
   "metadata": {},
   "source": []
  }
 ],
 "metadata": {
  "interpreter": {
   "hash": "0326d5c89bbc30a2976d9b776107057a5faa6fcdc0403b17d79e42056d6f4e4e"
  },
  "kernelspec": {
   "display_name": "Python 3.9.7 ('base')",
   "language": "python",
   "name": "python3"
  },
  "language_info": {
   "codemirror_mode": {
    "name": "ipython",
    "version": 3
   },
   "file_extension": ".py",
   "mimetype": "text/x-python",
   "name": "python",
   "nbconvert_exporter": "python",
   "pygments_lexer": "ipython3",
   "version": "3.9.7"
  },
  "orig_nbformat": 4
 },
 "nbformat": 4,
 "nbformat_minor": 2
}
